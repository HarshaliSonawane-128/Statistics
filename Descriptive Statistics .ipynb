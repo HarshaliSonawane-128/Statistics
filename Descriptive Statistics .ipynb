{
 "cells": [
  {
   "cell_type": "code",
   "execution_count": 1,
   "id": "2857b468",
   "metadata": {},
   "outputs": [],
   "source": [
    "import numpy as np\n",
    "import pandas as pd \n",
    "import statistics as st"
   ]
  },
  {
   "cell_type": "markdown",
   "id": "e768e7ca",
   "metadata": {},
   "source": [
    "## Statistics = \n",
    "\n",
    "- statistics is the sceience of collection ,organizing and analysing data .\n",
    "\n",
    "## Data =\n",
    "- facts or picses of information that can be measures \n",
    "\n",
    "### types of statistics \n",
    "1.  descriptive stats = it consist of organizing and summarizing data .\n",
    "\n",
    "2. inferatial stats = it is a technique where in we use the data that we have measure to from conculsion\n",
    "\n",
    "- ex . DS = what is the average marks of student  in class\n",
    "- IS = are the marks of student of this classroom similar to the marks of the maths classroom in the college"
   ]
  },
  {
   "cell_type": "code",
   "execution_count": null,
   "id": "f3515317",
   "metadata": {},
   "outputs": [],
   "source": []
  },
  {
   "cell_type": "markdown",
   "id": "4e5aef96",
   "metadata": {},
   "source": [
    "## Tyes of Data \n",
    "\n",
    "1. contineous \n",
    "<pre>\n",
    " - it can have finite or infinite values  within certain range \n",
    " - it can br expressed in fraction.\n",
    " - example = height ,weight ,marks ,salry\n",
    "<pre>\n",
    " \n",
    "2. Categorical data\n",
    "<pre>\n",
    "  - it will have finte values , it will have fixed no of categories \n",
    "  - it cant be expressed in fraction \n",
    "  - ex . gendre , states , type of job \n",
    "<pre>"
   ]
  },
  {
   "cell_type": "markdown",
   "id": "376b9aae",
   "metadata": {},
   "source": [
    "## Descriptive statistic \n",
    "\n",
    "### 1. univariate Analysis - single Variable \n",
    "\n",
    "### 2. bivarient Analysis - two variable \n",
    "\n",
    "### 3. Multivariant analysis - more than two variable "
   ]
  },
  {
   "cell_type": "markdown",
   "id": "2d3d11a5",
   "metadata": {},
   "source": [
    "### population  \n",
    "  - is the entire dataset  = N\n",
    "\n",
    "### sample \n",
    "   - is a subset of population = N-1"
   ]
  },
  {
   "cell_type": "markdown",
   "id": "0499226f",
   "metadata": {},
   "source": [
    "# 1. Unvarient Analusis \n",
    "\n",
    "#### 1.Mesure of central tendancy\n",
    "\n",
    "a. Mean = \n",
    "   - Average sum of all observation divided by total number \n",
    "       of  observation.\n",
    "   - mean is affected by outliers .\n",
    "   - mean can be computed only for continoues data \n",
    "   \n",
    "b. Median = \n",
    "   - is the middle most value of in the data is sorted\n",
    "   - median = (n-1)/2 , where n= odd\n",
    "   - median = (n/2)th + (n+1/2)th) /2  ,where n = even  \n",
    "   - mean can be computed only for continoues data \n",
    "\n",
    "c. mode =\n",
    "   - most frequently occuring values \n",
    "   - can be computed for both contious and categorical data \n",
    "\n",
    "\n",
    "#### 2. Mesure of Dispersion \n",
    "\n",
    "a. Vriance = \n",
    "  - it is the dispersion of data from its mean squred .\n",
    "  - Var_pop = sum(xi - mean )^2/N\n",
    "  - Var_sample  = sum(xi - mean )^2/(N-1)\n",
    "  \n",
    "b. Standard Deviation \n",
    "  - it is squre root of variance . it it spred of data from it s mean \n",
    "  - std_pop = sqrt(sum(xi - mean )^2/N)\n",
    "  - std_samp = sqrt(sum(xi - mean )^2/(N-1))\n",
    "  \n",
    "c .range \n",
    "   - max -min \n",
    "   \n",
    "#### 3. Other\n",
    "   \n",
    "d Quantile \n",
    "   - dividing data into equal parts \n",
    "   \n",
    "e. Percentile \n",
    "   - percentile is quantile where Dividing data into 100 parts \n",
    "   \n",
    "f  Declie\n",
    "   - percentile is quantile where Dividing data into 10 parts\n",
    "   \n",
    "g. Quartile \n",
    "   - percentile is quantile where Dividing data into 4 equal parts"
   ]
  },
  {
   "cell_type": "markdown",
   "id": "2e228961",
   "metadata": {},
   "source": [
    "# 1. Mean"
   ]
  },
  {
   "cell_type": "code",
   "execution_count": 3,
   "id": "098eefdd",
   "metadata": {},
   "outputs": [
    {
     "name": "stdout",
     "output_type": "stream",
     "text": [
      "16.454545454545453\n",
      "16.454545454545453\n",
      "16.454545454545453\n",
      "16.454545454545453\n"
     ]
    }
   ],
   "source": [
    "\n",
    "d1 =[3,5,6,7,8,12,15,17,29,35,44]\n",
    "\n",
    "m1 = sum(d1)/len(d1)\n",
    "print(m1)\n",
    "\n",
    "m2 = np.mean (d1)\n",
    "print(m2)\n",
    "\n",
    "m3 = pd.Series(d1).mean()\n",
    "print(m3)\n",
    "\n",
    "m4 = st.mean(d1)\n",
    "print(m4)"
   ]
  },
  {
   "cell_type": "markdown",
   "id": "e3a8756e",
   "metadata": {},
   "source": [
    "# 2.Median\n",
    "\n",
    "- Median = (N/2)th term , N is odd\n",
    "- Median = (N/2)th + (N/2) th , N is even"
   ]
  },
  {
   "cell_type": "code",
   "execution_count": 2,
   "id": "65ebfe2b",
   "metadata": {},
   "outputs": [
    {
     "name": "stdout",
     "output_type": "stream",
     "text": [
      "[10, 14, 15, 18, 20, 24, 36]\n",
      "18\n",
      "18.0\n",
      "18\n",
      "18.0\n"
     ]
    }
   ],
   "source": [
    "d2 = [10,14,18,24,36,15,20]\n",
    "\n",
    "d2.sort()\n",
    "print(d2)\n",
    "\n",
    "med1 = d2[len(d2)//2]                  # list main indexing o se start hoti hi\n",
    "print(med1)\n",
    "\n",
    "med2 = pd.Series(d2).median()\n",
    "print(med2)\n",
    "\n",
    "med3 = st.median(d2)\n",
    "print(med3)\n",
    "\n",
    "med4 = np.median(d2)\n",
    "print(med4)\n"
   ]
  },
  {
   "cell_type": "code",
   "execution_count": 5,
   "id": "f2fb31ce",
   "metadata": {},
   "outputs": [
    {
     "name": "stdout",
     "output_type": "stream",
     "text": [
      "[10, 14, 15, 18, 20, 24, 36]\n",
      "19.0\n",
      "19.0\n",
      "19.0\n",
      "19.0\n"
     ]
    }
   ],
   "source": [
    "d3 = [42,10,14,18,24,36,15,20]\n",
    "d3.sort()\n",
    "print(d2)\n",
    "\n",
    "med1 =(d3[len(d3)//2] +d3[len(d3)//2-1])/2                 # list main indexing o se start hoti hi\n",
    "print(med1)\n",
    "\n",
    "med2 = pd.Series(d3).median()\n",
    "print(med2)\n",
    "\n",
    "med3 = st.median(d3)\n",
    "print(med3)\n",
    "\n",
    "med4 = np.median(d3)\n",
    "print(med4)"
   ]
  },
  {
   "cell_type": "markdown",
   "id": "c6dab60f",
   "metadata": {},
   "source": [
    "# 3. Mode "
   ]
  },
  {
   "cell_type": "code",
   "execution_count": 10,
   "id": "74d903fa",
   "metadata": {},
   "outputs": [
    {
     "name": "stdout",
     "output_type": "stream",
     "text": [
      "4\n",
      "4\n"
     ]
    }
   ],
   "source": [
    "d3 = [4,5,7,7,8,8,8,9,9,6,5,3,4,4,5,5,4,4,4,4,4,]\n",
    "\n",
    "mode2 = pd.Series(d3).mode()[0]\n",
    "print(mode2)\n",
    "\n",
    "mode3 = st.mode(d3)\n",
    "print(mode3)"
   ]
  },
  {
   "cell_type": "markdown",
   "id": "304a6f9a",
   "metadata": {},
   "source": [
    "# 4. Variance and Standard deviation \n",
    "\n",
    "- Var_pop = sum(xi - mean )^2/N\n",
    "- Var_sample = sum(xi - mean )^2/(N-1)\n",
    "\n",
    "- std_pop = sqrt(sum(xi - mean )^2/N)\n",
    "- std_samp = sqrt(sum(xi - mean )^2/(N-1))"
   ]
  },
  {
   "cell_type": "code",
   "execution_count": 7,
   "id": "4600d8dd",
   "metadata": {},
   "outputs": [
    {
     "name": "stdout",
     "output_type": "stream",
     "text": [
      "17.333333333333332\n",
      "14.857142857142858\n",
      "4.163331998932265\n",
      "3.854496446637726\n"
     ]
    }
   ],
   "source": [
    "w =[3,5,6,7,8,12,15]\n",
    "\n",
    "v1 = st.variance(w)          # sample variance\n",
    "print(v1)\n",
    "\n",
    "v2 = st.pvariance(w)         # population variance\n",
    "print(v2\n",
    "     )\n",
    "std1 = st.stdev(w)            # sample standard deviation\n",
    "print(std1)\n",
    "\n",
    "st2 = st.pstdev(w)            # population standard deviation\n",
    "print(st2)"
   ]
  },
  {
   "cell_type": "markdown",
   "id": "f8a40c96",
   "metadata": {},
   "source": [
    "# 5. range "
   ]
  },
  {
   "cell_type": "code",
   "execution_count": 15,
   "id": "97b4d46c",
   "metadata": {},
   "outputs": [
    {
     "data": {
      "text/plain": [
       "12"
      ]
     },
     "execution_count": 15,
     "metadata": {},
     "output_type": "execute_result"
    }
   ],
   "source": [
    "max(w)-min(w)"
   ]
  },
  {
   "cell_type": "markdown",
   "id": "da36c017",
   "metadata": {},
   "source": [
    "# 6.Quartile , Decile and Percentile"
   ]
  },
  {
   "cell_type": "code",
   "execution_count": 8,
   "id": "2c04527d",
   "metadata": {},
   "outputs": [
    {
     "name": "stdout",
     "output_type": "stream",
     "text": [
      "[15 32 12 12 12 32 40 16 43 28 42 35 13 18 43 32 12 17 21 34 43 26 43 13\n",
      " 28 37 24 22 46 26 21 45 41 12 39 48 44 49 34 19]\n"
     ]
    }
   ],
   "source": [
    "x = np.random.randint(10,50,40)\n",
    "print(x)"
   ]
  },
  {
   "cell_type": "code",
   "execution_count": 9,
   "id": "f297e4c9",
   "metadata": {},
   "outputs": [],
   "source": [
    "x1 = x.copy()"
   ]
  },
  {
   "cell_type": "code",
   "execution_count": 10,
   "id": "0d2a5315",
   "metadata": {},
   "outputs": [
    {
     "name": "stdout",
     "output_type": "stream",
     "text": [
      "[12 12 12 12 12 13 13 15 16 17 18 19 21 21 22 24 26 26 28 28 32 32 32 34\n",
      " 34 35 37 39 40 41 42 43 43 43 43 44 45 46 48 49]\n"
     ]
    }
   ],
   "source": [
    "x.sort()\n",
    "print(x)"
   ]
  },
  {
   "cell_type": "markdown",
   "id": "f7324810",
   "metadata": {},
   "source": [
    "### Quartile \n",
    "<pre>\n",
    "Q0 - 0 Quartile = 0 percentile       = min\n",
    "Q1 - 1 Quartile = 25 percentile \n",
    "Q2 - 2 Quartile = 50 percentile      = median \n",
    "Q3 - 3 Quartile  = 75 percentile \n",
    "Q4 - 4 Quartile = 100 percentile      = maximum\n",
    "\n"
   ]
  },
  {
   "cell_type": "code",
   "execution_count": 12,
   "id": "91cef6b0",
   "metadata": {},
   "outputs": [
    {
     "name": "stdout",
     "output_type": "stream",
     "text": [
      "Q0 =  12\n",
      "Q1 =  17.75\n",
      "Q2 =  30.0\n",
      "Q3 =  41.25\n",
      "Q4=  49\n"
     ]
    }
   ],
   "source": [
    "Q0 = np.quantile(x,0)\n",
    "Q1 = np.quantile(x,0.25)\n",
    "Q2 = np.quantile(x,0.50)\n",
    "Q3 = np.quantile(x,0.75)\n",
    "Q4 = np.quantile(x,1)\n",
    "\n",
    "print('Q0 = ',Q0)\n",
    "print('Q1 = ',Q1)\n",
    "print('Q2 = ',Q2)\n",
    "print('Q3 = ',Q3)\n",
    "print('Q4= ',Q4)"
   ]
  },
  {
   "cell_type": "markdown",
   "id": "9d36a76b",
   "metadata": {},
   "source": [
    "### Percentile "
   ]
  },
  {
   "cell_type": "code",
   "execution_count": 13,
   "id": "22f65620",
   "metadata": {},
   "outputs": [
    {
     "name": "stdout",
     "output_type": "stream",
     "text": [
      "30.0\n",
      "43.0\n"
     ]
    }
   ],
   "source": [
    "x50 = np.percentile(x,50)\n",
    "print(x50)\n",
    "\n",
    "x85 = np.percentile(x,80)\n",
    "print(x85)"
   ]
  },
  {
   "cell_type": "markdown",
   "id": "8072d884",
   "metadata": {},
   "source": [
    "### Decile "
   ]
  },
  {
   "cell_type": "code",
   "execution_count": 14,
   "id": "d7e40198",
   "metadata": {},
   "outputs": [
    {
     "name": "stdout",
     "output_type": "stream",
     "text": [
      "20.4 12.0\n"
     ]
    }
   ],
   "source": [
    "d1 = np.percentile(x,10)\n",
    "d2 =np.percentile (x,30)\n",
    "\n",
    "\n",
    "print(d2 ,d1)"
   ]
  },
  {
   "cell_type": "markdown",
   "id": "d38b3ff1",
   "metadata": {},
   "source": [
    "\n",
    "# Bivariant  Analysis\n",
    "\n",
    "### Covariance\n",
    "    1) it measures the direction of linear relationship betwwen two variable\n",
    "    2) length of both variable should be same \n",
    "    3) it varies from -infinte to +infinite\n",
    "    4) it is used in PCA (Dimensionality reduction)\n",
    "    5)cov(p,q)= cov(q,p)\n",
    "    5) cov(p,p) = variannce (p) ans \n",
    "    6) cov(q,q) = variannce (q)\n",
    "    \n",
    "### Correlation\n",
    "    1) it measures the direction and magnitude of linear relationship betwwen two variable\n",
    "    2) length of both variable should be same \n",
    "    3) it varies from -1 to +1\n",
    "    4) it is used in feacture  Selaction in Machine learning\n",
    "    5) corr(p,q)= corr(q,p)\n",
    "    5) corr(p,p) = corr(q,q) =1\n",
    "##### for both covariance and corelation \n",
    "i)Positive magnnitude for covarianve or corelation implies\n",
    "\n",
    "     1) if x increses , y also increses \n",
    "     2) if x decreses , y also decrese \n",
    "     \n",
    "ii)negative value mean for covarianve or corelation implies\n",
    "\n",
    "     1) if x increses , y also increse \n",
    "     2) if x decreses , y also decreses \n",
    "     "
   ]
  },
  {
   "cell_type": "code",
   "execution_count": 16,
   "id": "8246e48f",
   "metadata": {},
   "outputs": [
    {
     "name": "stdout",
     "output_type": "stream",
     "text": [
      "6\n",
      "6\n"
     ]
    }
   ],
   "source": [
    "p = [3,5,9,12,17,14]\n",
    "q = [20,29,38,41,39,54]\n",
    "\n",
    "print(len(p))\n",
    "print(len(q))"
   ]
  },
  {
   "cell_type": "code",
   "execution_count": null,
   "id": "ed0a861f",
   "metadata": {},
   "outputs": [],
   "source": []
  },
  {
   "cell_type": "code",
   "execution_count": null,
   "id": "b820cfe6",
   "metadata": {},
   "outputs": [],
   "source": []
  },
  {
   "cell_type": "code",
   "execution_count": 4,
   "id": "91435421",
   "metadata": {},
   "outputs": [
    {
     "data": {
      "text/html": [
       "<div>\n",
       "<style scoped>\n",
       "    .dataframe tbody tr th:only-of-type {\n",
       "        vertical-align: middle;\n",
       "    }\n",
       "\n",
       "    .dataframe tbody tr th {\n",
       "        vertical-align: top;\n",
       "    }\n",
       "\n",
       "    .dataframe thead th {\n",
       "        text-align: right;\n",
       "    }\n",
       "</style>\n",
       "<table border=\"1\" class=\"dataframe\">\n",
       "  <thead>\n",
       "    <tr style=\"text-align: right;\">\n",
       "      <th></th>\n",
       "      <th>total_bill</th>\n",
       "      <th>tip</th>\n",
       "      <th>sex</th>\n",
       "      <th>smoker</th>\n",
       "      <th>day</th>\n",
       "      <th>time</th>\n",
       "      <th>size</th>\n",
       "    </tr>\n",
       "  </thead>\n",
       "  <tbody>\n",
       "    <tr>\n",
       "      <th>0</th>\n",
       "      <td>16.99</td>\n",
       "      <td>1.01</td>\n",
       "      <td>Female</td>\n",
       "      <td>No</td>\n",
       "      <td>Sun</td>\n",
       "      <td>Dinner</td>\n",
       "      <td>2</td>\n",
       "    </tr>\n",
       "    <tr>\n",
       "      <th>1</th>\n",
       "      <td>10.34</td>\n",
       "      <td>1.66</td>\n",
       "      <td>Male</td>\n",
       "      <td>No</td>\n",
       "      <td>Sun</td>\n",
       "      <td>Dinner</td>\n",
       "      <td>3</td>\n",
       "    </tr>\n",
       "    <tr>\n",
       "      <th>2</th>\n",
       "      <td>21.01</td>\n",
       "      <td>3.50</td>\n",
       "      <td>Male</td>\n",
       "      <td>No</td>\n",
       "      <td>Sun</td>\n",
       "      <td>Dinner</td>\n",
       "      <td>3</td>\n",
       "    </tr>\n",
       "    <tr>\n",
       "      <th>3</th>\n",
       "      <td>23.68</td>\n",
       "      <td>3.31</td>\n",
       "      <td>Male</td>\n",
       "      <td>No</td>\n",
       "      <td>Sun</td>\n",
       "      <td>Dinner</td>\n",
       "      <td>2</td>\n",
       "    </tr>\n",
       "    <tr>\n",
       "      <th>4</th>\n",
       "      <td>24.59</td>\n",
       "      <td>3.61</td>\n",
       "      <td>Female</td>\n",
       "      <td>No</td>\n",
       "      <td>Sun</td>\n",
       "      <td>Dinner</td>\n",
       "      <td>4</td>\n",
       "    </tr>\n",
       "  </tbody>\n",
       "</table>\n",
       "</div>"
      ],
      "text/plain": [
       "   total_bill   tip     sex smoker  day    time  size\n",
       "0       16.99  1.01  Female     No  Sun  Dinner     2\n",
       "1       10.34  1.66    Male     No  Sun  Dinner     3\n",
       "2       21.01  3.50    Male     No  Sun  Dinner     3\n",
       "3       23.68  3.31    Male     No  Sun  Dinner     2\n",
       "4       24.59  3.61  Female     No  Sun  Dinner     4"
      ]
     },
     "execution_count": 4,
     "metadata": {},
     "output_type": "execute_result"
    }
   ],
   "source": [
    "df = pd.read_csv('tips.csv')\n",
    "df.head()"
   ]
  },
  {
   "cell_type": "code",
   "execution_count": 10,
   "id": "12a91418",
   "metadata": {},
   "outputs": [
    {
     "name": "stdout",
     "output_type": "stream",
     "text": [
      "Correlation between column1 and column3: 8.323501629224854\n"
     ]
    }
   ],
   "source": [
    "\n",
    "correlation = df['total_bill'].cov(df['tip'])\n",
    "print(\"Correlation between column1 and column3:\", correlation)"
   ]
  },
  {
   "cell_type": "markdown",
   "id": "5e742953",
   "metadata": {},
   "source": [
    "### 1.Covariance"
   ]
  },
  {
   "cell_type": "code",
   "execution_count": 17,
   "id": "53a977f2",
   "metadata": {},
   "outputs": [
    {
     "name": "stdout",
     "output_type": "stream",
     "text": [
      "[[ 28.8         49.6       ]\n",
      " [ 49.6        132.56666667]]\n"
     ]
    }
   ],
   "source": [
    "# Covariance beteen pand q = squre matrix milata hai \n",
    "# cov(p,q)\n",
    "# [cov(p,p) ,cov(p,q)]\n",
    "# [cov(q,p) ,cov(q,q)]\n",
    "\n",
    "cov = np.cov(p,q)\n",
    "print(cov)"
   ]
  },
  {
   "cell_type": "code",
   "execution_count": 18,
   "id": "8f99db3d",
   "metadata": {},
   "outputs": [
    {
     "name": "stdout",
     "output_type": "stream",
     "text": [
      "28.8\n",
      "132.56666666666666\n"
     ]
    }
   ],
   "source": [
    "print(st.variance(p))       # variance of p is = cov (p,p)\n",
    "print(st.variance(q))       # variance of q is = cov (q,q)"
   ]
  },
  {
   "cell_type": "markdown",
   "id": "9a818fb7",
   "metadata": {},
   "source": [
    "## 2.correlation"
   ]
  },
  {
   "cell_type": "code",
   "execution_count": 19,
   "id": "93e8caa7",
   "metadata": {},
   "outputs": [
    {
     "name": "stdout",
     "output_type": "stream",
     "text": [
      "[[1.         0.80272773]\n",
      " [0.80272773 1.        ]]\n"
     ]
    }
   ],
   "source": [
    "# Corelation beteen p and q = squre matrix milata hai \n",
    "# corr(p,q)\n",
    "# [corr(p,p), corr(p,q)]\n",
    "# [corr(q,p),  corr(q,q)]\n",
    "\n",
    "\n",
    "corr = np.corrcoef(p,q)\n",
    "print(corr)\n"
   ]
  },
  {
   "cell_type": "markdown",
   "id": "662af66d",
   "metadata": {},
   "source": [
    "## Empirical Rule\n",
    "-  primarily applicable to datasets that follow a normal distribution (bell-shaped curve).\n",
    "- The Empirical Rule(also called the 68-95-99.7 Rule or the Three Sigma Rule) states that for any normal distribution, we have the following observations:\n",
    "\n",
    "- 68% of the observed values lie between 1 standard deviation around the mean : (\\mu-\\sigma)\\ to\\ (\\mu+\\sigma)\n",
    "- 95% of the observed values lie between 2 standard deviations around the mean : (\\mu-2\\sigma)\\ to\\ (\\mu+2\\sigma)\n",
    "- 99.7% of the observed values lie between 3 standard deviation around the mean : (\\mu-3\\sigma)\\ to\\ (\\mu+3\\sigma)\n",
    "\n",
    "Graph ;-\n",
    "slide = 2 = 3 example \n",
    "\n",
    "- The empirical rule provides specific and accurate information about the distribution of data in a normal distribution but doesn't apply to non-normal distributions"
   ]
  },
  {
   "cell_type": "code",
   "execution_count": 2,
   "id": "88b20108",
   "metadata": {},
   "outputs": [],
   "source": [
    "import numpy as np\n",
    "# np is the alias for numpy\n",
    "import pandas as pd\n",
    "# pd is the alias for pandas\n",
    "import matplotlib.pyplot as plt\n",
    "# plt is athe alias name for pyplot\n",
    "%matplotlib inline\n",
    "import statistics as stats\n",
    "# stats is the alias for statistics\n",
    "from scipy.stats import norm\n",
    "# Importing norm from scipy.stats\n",
    "import random\n",
    "# Importing random"
   ]
  },
  {
   "cell_type": "code",
   "execution_count": 11,
   "id": "a04b7a3c",
   "metadata": {},
   "outputs": [
    {
     "name": "stdout",
     "output_type": "stream",
     "text": [
      "46.625\n",
      "28.076108297676463\n"
     ]
    }
   ],
   "source": [
    "A = [10,23,55,65,34,76,87,23]\n",
    "\n",
    "mean = np.mean(A)\n",
    "print(mean)\n",
    "\n",
    "std = st.stdev(A)            # sample standard deviation\n",
    "print(std)"
   ]
  },
  {
   "cell_type": "code",
   "execution_count": 12,
   "id": "b651480b",
   "metadata": {},
   "outputs": [],
   "source": [
    "# Three S.D. around the df_mean\n",
    "one_sd = norm.cdf(std, mean, std) - norm.cdf(-std, mean, std)\n",
    "two_sd = norm.cdf(2 * std, mean, std) - norm.cdf(-2 * std, mean, std)\n",
    "three_sd = norm.cdf(3 * std, mean, std) - norm.cdf(-3 * std, mean, std)"
   ]
  },
  {
   "cell_type": "code",
   "execution_count": 13,
   "id": "49373092",
   "metadata": {},
   "outputs": [
    {
     "name": "stdout",
     "output_type": "stream",
     "text": [
      "Fraction of values within one SD = 0.2505143761324654\n",
      "Fraction of values within two SD = 0.6326956689279697\n",
      "Fraction of values within three SD = 0.9097676644916235\n"
     ]
    }
   ],
   "source": [
    "# printing the value of fractions\n",
    "# within each band\n",
    "print(\"Fraction of values within one SD =\", one_sd)\n",
    "print(\"Fraction of values within two SD =\", two_sd)\n",
    "print(\"Fraction of values within three SD =\", three_sd)"
   ]
  },
  {
   "cell_type": "code",
   "execution_count": null,
   "id": "e9f9190b",
   "metadata": {},
   "outputs": [],
   "source": []
  },
  {
   "cell_type": "markdown",
   "id": "4899f440",
   "metadata": {},
   "source": [
    "## Chebyshev Rule \n",
    "\n",
    "- when distribution not followed gausssian distibution then distibution of values within paricularalr range that can be find out by  chebyshev rule \n",
    "- slide no - last 2 sc\n",
    "\n",
    "- Chebyshev's inequality is a more general rule that can be applied to any dataset, and it provides a minimum bound on the proportion of data within a certain range of standard deviations from the mean. It's not as specific as the empirical rule but is applicable to a wider range of data distributions.It doesn't require the dataset to be normally distributed.\n",
    "\n",
    "\n",
    "\n",
    "\n",
    "\n"
   ]
  },
  {
   "cell_type": "code",
   "execution_count": 14,
   "id": "ee1bc4ee",
   "metadata": {},
   "outputs": [
    {
     "name": "stdout",
     "output_type": "stream",
     "text": [
      "The estimated percentage of values between 80 and 120 is approximately 93.75%.\n"
     ]
    }
   ],
   "source": [
    "mean = 100\n",
    "std_dev = 5\n",
    "lower_limit = 80\n",
    "upper_limit = 120\n",
    "\n",
    "k = (upper_limit - mean) / std_dev  # Calculate the number of standard deviations between the mean and upper limit\n",
    "\n",
    "# Using Chebyshev's inequality to estimate the percentage\n",
    "# The inequality is P(|X - μ| < kσ) >= 1 - 1/k^2\n",
    "k_squared = k ** 2\n",
    "percentage_within_limits = 1 - 1 / k_squared\n",
    "\n",
    "# Convert the percentage to a percentage value\n",
    "percentage_within_limits *= 100\n",
    "\n",
    "print(f\"The estimated percentage of values between {lower_limit} and {upper_limit} is approximately {percentage_within_limits:.2f}%.\")"
   ]
  },
  {
   "cell_type": "code",
   "execution_count": null,
   "id": "4acf71a0",
   "metadata": {},
   "outputs": [],
   "source": []
  }
 ],
 "metadata": {
  "kernelspec": {
   "display_name": "Python 3 (ipykernel)",
   "language": "python",
   "name": "python3"
  },
  "language_info": {
   "codemirror_mode": {
    "name": "ipython",
    "version": 3
   },
   "file_extension": ".py",
   "mimetype": "text/x-python",
   "name": "python",
   "nbconvert_exporter": "python",
   "pygments_lexer": "ipython3",
   "version": "3.10.9"
  }
 },
 "nbformat": 4,
 "nbformat_minor": 5
}
